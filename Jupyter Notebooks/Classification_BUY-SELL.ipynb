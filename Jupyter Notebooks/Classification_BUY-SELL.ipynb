{
 "cells": [
  {
   "cell_type": "code",
   "execution_count": 1,
   "metadata": {},
   "outputs": [
    {
     "name": "stderr",
     "output_type": "stream",
     "text": [
      "c:\\users\\hayes\\appdata\\local\\programs\\python\\python37\\lib\\site-packages\\pandas_datareader\\compat\\__init__.py:7: FutureWarning: pandas.util.testing is deprecated. Use the functions in the public API at pandas.testing instead.\n",
      "  from pandas.util.testing import assert_frame_equal\n"
     ]
    }
   ],
   "source": [
    "import pandas as pd\n",
    "import talib\n",
    "import sklearn\n",
    "import numpy as np\n",
    "from sklearn.model_selection import train_test_split  \n",
    "from sklearn.naive_bayes import GaussianNB\n",
    "import pandas_datareader as web\n",
    "import datetime as dt"
   ]
  },
  {
   "cell_type": "code",
   "execution_count": 2,
   "metadata": {},
   "outputs": [
    {
     "name": "stdout",
     "output_type": "stream",
     "text": [
      "Newest Data:\n",
      "                  High         Low        Open       Close      Volume  \\\n",
      "Date                                                                     \n",
      "2020-05-21  186.669998  183.289993  185.399994  183.429993  29119500.0   \n",
      "2020-05-22  184.460007  182.539993  183.190002  183.509995  20826900.0   \n",
      "2020-05-26  186.500000  181.100006  186.339996  181.570007  36073600.0   \n",
      "2020-05-27  181.990005  176.600006  180.199997  181.809998  39492600.0   \n",
      "2020-05-28  184.139999  180.389999  180.740005  181.399994  31328190.0   \n",
      "\n",
      "             Adj Close  \n",
      "Date                    \n",
      "2020-05-21  183.429993  \n",
      "2020-05-22  183.509995  \n",
      "2020-05-26  181.570007  \n",
      "2020-05-27  181.809998  \n",
      "2020-05-28  181.399994  \n",
      "Earliest Data:\n",
      "                High       Low      Open     Close        Volume  Adj Close\n",
      "Date                                                                       \n",
      "1986-03-13  0.101562  0.088542  0.088542  0.097222  1.031789e+09   0.062205\n",
      "1986-03-14  0.102431  0.097222  0.097222  0.100694  3.081600e+08   0.064427\n",
      "1986-03-17  0.103299  0.100694  0.100694  0.102431  1.331712e+08   0.065537\n",
      "1986-03-18  0.103299  0.098958  0.102431  0.099826  6.776640e+07   0.063871\n",
      "1986-03-19  0.100694  0.097222  0.099826  0.098090  4.789440e+07   0.062760\n"
     ]
    }
   ],
   "source": [
    "start = dt.datetime(1970,1,1).date()\n",
    "end = pd.to_datetime(\"today\").date()\n",
    "company = \"MSFT\"\n",
    "dataset = web.DataReader(company,\"yahoo\",start,end)\n",
    "\n",
    "df=pd.DataFrame(dataset)\n",
    "\n",
    "print('Newest Data:')\n",
    "print(df.tail())\n",
    "print('Earliest Data:')\n",
    "print(df.head())"
   ]
  },
  {
   "cell_type": "code",
   "execution_count": 3,
   "metadata": {},
   "outputs": [
    {
     "name": "stderr",
     "output_type": "stream",
     "text": [
      "c:\\users\\hayes\\appdata\\local\\programs\\python\\python37\\lib\\site-packages\\pandas\\core\\series.py:679: RuntimeWarning: invalid value encountered in sign\n",
      "  result = getattr(ufunc, method)(*inputs, **kwargs)\n"
     ]
    }
   ],
   "source": [
    "high = np.array(df.High)\n",
    "low = np.array(df.Low)\n",
    "close = np.array(df.Close)\n",
    " \n",
    "df['Today'] = df['Close']\n",
    "df['pct change'] = df['Today'].pct_change()\n",
    "df['Direction'] = np.sign(df['pct change'])\n",
    "\n",
    "\n",
    "df['ADX'] = talib.ADX(high, low, close, timeperiod=14)\n",
    " \n",
    "df['ADXR'] = talib.ADXR(high, low, close, timeperiod=14)\n",
    " \n",
    "df['APO'] = talib.APO(close, fastperiod=12, slowperiod=26, matype=0)\n",
    " \n",
    "df['AROONOSC'] = talib.AROONOSC(high, low, timeperiod=14)\n",
    " \n",
    "df['CCI'] = talib.CCI(high, low, close, timeperiod=14)\n",
    " \n",
    "df['CMO'] = talib.CMO(close, timeperiod=14)\n",
    " \n",
    "df['DX'] = talib.DX(high, low, close, timeperiod=14)\n",
    " \n",
    "df['MINUS_DI'] = talib.MINUS_DI(high, low, close, timeperiod=14)\n",
    " \n",
    "df['MINUS_DM'] = talib.MINUS_DM(high, low, timeperiod=14)\n",
    " \n",
    "df['MOM'] = talib.MOM(close, timeperiod=10)\n",
    " \n",
    "df['PLUS_DI'] = talib.PLUS_DI(high, low, close, timeperiod=14)\n",
    " \n",
    "df['PLUS_DM'] = talib.PLUS_DM(high, low, timeperiod=14)\n",
    " \n",
    "df['PPO'] = talib.PPO(close, fastperiod=12, slowperiod=26, matype=0)\n",
    " \n",
    "df['ROC'] = talib.ROC(close, timeperiod=10)\n",
    " \n",
    "df['ROCP'] = talib.ROCP(close, timeperiod=10)\n",
    " \n",
    "df['ROCR100'] = talib.ROCR100(close, timeperiod=10)\n",
    " \n",
    "df['RSI'] = talib.RSI(close, timeperiod=14)\n",
    " \n",
    "df['ULTOSC'] = talib.ULTOSC(high, low, close, timeperiod1=7, timeperiod2=14, timeperiod3=28)\n",
    " \n",
    "df['WILLR'] = talib.WILLR(high, low, close, timeperiod=14)\n",
    "\n",
    "# Added more\n",
    "\n",
    "df['DEMA'] = talib.DEMA(close, timeperiod=30)\n",
    "\n",
    "df['EMA'] = talib.EMA(close, timeperiod=30)\n",
    "\n",
    "df['MA'] = talib.MA(close, timeperiod=30, matype=0)\n",
    "\n",
    "df['SAR'] = talib.SAR(high, low, acceleration=0, maximum=0)\n",
    "\n",
    "df['WMA'] = talib.WMA(close, timeperiod=30)"
   ]
  },
  {
   "cell_type": "code",
   "execution_count": 4,
   "metadata": {},
   "outputs": [
    {
     "data": {
      "text/html": [
       "<div>\n",
       "<style scoped>\n",
       "    .dataframe tbody tr th:only-of-type {\n",
       "        vertical-align: middle;\n",
       "    }\n",
       "\n",
       "    .dataframe tbody tr th {\n",
       "        vertical-align: top;\n",
       "    }\n",
       "\n",
       "    .dataframe thead th {\n",
       "        text-align: right;\n",
       "    }\n",
       "</style>\n",
       "<table border=\"1\" class=\"dataframe\">\n",
       "  <thead>\n",
       "    <tr style=\"text-align: right;\">\n",
       "      <th></th>\n",
       "      <th>High</th>\n",
       "      <th>Low</th>\n",
       "      <th>Open</th>\n",
       "      <th>Close</th>\n",
       "      <th>Volume</th>\n",
       "      <th>Adj Close</th>\n",
       "      <th>Today</th>\n",
       "      <th>pct change</th>\n",
       "      <th>Direction</th>\n",
       "      <th>ADX</th>\n",
       "      <th>...</th>\n",
       "      <th>ROCP</th>\n",
       "      <th>ROCR100</th>\n",
       "      <th>RSI</th>\n",
       "      <th>ULTOSC</th>\n",
       "      <th>WILLR</th>\n",
       "      <th>DEMA</th>\n",
       "      <th>EMA</th>\n",
       "      <th>MA</th>\n",
       "      <th>SAR</th>\n",
       "      <th>WMA</th>\n",
       "    </tr>\n",
       "    <tr>\n",
       "      <th>Date</th>\n",
       "      <th></th>\n",
       "      <th></th>\n",
       "      <th></th>\n",
       "      <th></th>\n",
       "      <th></th>\n",
       "      <th></th>\n",
       "      <th></th>\n",
       "      <th></th>\n",
       "      <th></th>\n",
       "      <th></th>\n",
       "      <th></th>\n",
       "      <th></th>\n",
       "      <th></th>\n",
       "      <th></th>\n",
       "      <th></th>\n",
       "      <th></th>\n",
       "      <th></th>\n",
       "      <th></th>\n",
       "      <th></th>\n",
       "      <th></th>\n",
       "      <th></th>\n",
       "    </tr>\n",
       "  </thead>\n",
       "  <tbody>\n",
       "    <tr>\n",
       "      <th>2020-05-21</th>\n",
       "      <td>186.669998</td>\n",
       "      <td>183.289993</td>\n",
       "      <td>185.399994</td>\n",
       "      <td>183.429993</td>\n",
       "      <td>29119500.0</td>\n",
       "      <td>183.429993</td>\n",
       "      <td>183.429993</td>\n",
       "      <td>-0.012011</td>\n",
       "      <td>-1.0</td>\n",
       "      <td>23.034254</td>\n",
       "      <td>...</td>\n",
       "      <td>-0.000926</td>\n",
       "      <td>99.907400</td>\n",
       "      <td>57.172533</td>\n",
       "      <td>54.122572</td>\n",
       "      <td>-29.759332</td>\n",
       "      <td>184.689560</td>\n",
       "      <td>177.188332</td>\n",
       "      <td>177.668333</td>\n",
       "      <td>0.088542</td>\n",
       "      <td>180.464688</td>\n",
       "    </tr>\n",
       "    <tr>\n",
       "      <th>2020-05-22</th>\n",
       "      <td>184.460007</td>\n",
       "      <td>182.539993</td>\n",
       "      <td>183.190002</td>\n",
       "      <td>183.509995</td>\n",
       "      <td>20826900.0</td>\n",
       "      <td>183.509995</td>\n",
       "      <td>183.509995</td>\n",
       "      <td>0.000436</td>\n",
       "      <td>1.0</td>\n",
       "      <td>22.840628</td>\n",
       "      <td>...</td>\n",
       "      <td>-0.006335</td>\n",
       "      <td>99.366473</td>\n",
       "      <td>57.262764</td>\n",
       "      <td>54.059136</td>\n",
       "      <td>-33.812336</td>\n",
       "      <td>184.994995</td>\n",
       "      <td>177.596181</td>\n",
       "      <td>178.280667</td>\n",
       "      <td>0.088542</td>\n",
       "      <td>180.841570</td>\n",
       "    </tr>\n",
       "    <tr>\n",
       "      <th>2020-05-26</th>\n",
       "      <td>186.500000</td>\n",
       "      <td>181.100006</td>\n",
       "      <td>186.339996</td>\n",
       "      <td>181.570007</td>\n",
       "      <td>36073600.0</td>\n",
       "      <td>181.570007</td>\n",
       "      <td>181.570007</td>\n",
       "      <td>-0.010572</td>\n",
       "      <td>-1.0</td>\n",
       "      <td>23.079300</td>\n",
       "      <td>...</td>\n",
       "      <td>-0.027686</td>\n",
       "      <td>97.231446</td>\n",
       "      <td>54.276497</td>\n",
       "      <td>43.889972</td>\n",
       "      <td>-50.211211</td>\n",
       "      <td>185.013864</td>\n",
       "      <td>177.852557</td>\n",
       "      <td>178.816000</td>\n",
       "      <td>0.088542</td>\n",
       "      <td>181.053785</td>\n",
       "    </tr>\n",
       "    <tr>\n",
       "      <th>2020-05-27</th>\n",
       "      <td>181.990005</td>\n",
       "      <td>176.600006</td>\n",
       "      <td>180.199997</td>\n",
       "      <td>181.809998</td>\n",
       "      <td>39492600.0</td>\n",
       "      <td>181.809998</td>\n",
       "      <td>181.809998</td>\n",
       "      <td>0.001322</td>\n",
       "      <td>1.0</td>\n",
       "      <td>21.960693</td>\n",
       "      <td>...</td>\n",
       "      <td>-0.003835</td>\n",
       "      <td>99.616461</td>\n",
       "      <td>54.591974</td>\n",
       "      <td>47.228199</td>\n",
       "      <td>-48.182553</td>\n",
       "      <td>185.046009</td>\n",
       "      <td>178.107876</td>\n",
       "      <td>179.086334</td>\n",
       "      <td>0.088542</td>\n",
       "      <td>181.246946</td>\n",
       "    </tr>\n",
       "    <tr>\n",
       "      <th>2020-05-28</th>\n",
       "      <td>184.139999</td>\n",
       "      <td>180.389999</td>\n",
       "      <td>180.740005</td>\n",
       "      <td>181.399994</td>\n",
       "      <td>31328190.0</td>\n",
       "      <td>181.399994</td>\n",
       "      <td>181.399994</td>\n",
       "      <td>-0.002255</td>\n",
       "      <td>-1.0</td>\n",
       "      <td>21.391984</td>\n",
       "      <td>...</td>\n",
       "      <td>0.009179</td>\n",
       "      <td>100.917938</td>\n",
       "      <td>53.907656</td>\n",
       "      <td>44.232905</td>\n",
       "      <td>-51.648349</td>\n",
       "      <td>185.009474</td>\n",
       "      <td>178.320271</td>\n",
       "      <td>179.403667</td>\n",
       "      <td>0.088542</td>\n",
       "      <td>181.396215</td>\n",
       "    </tr>\n",
       "  </tbody>\n",
       "</table>\n",
       "<p>5 rows × 33 columns</p>\n",
       "</div>"
      ],
      "text/plain": [
       "                  High         Low        Open       Close      Volume  \\\n",
       "Date                                                                     \n",
       "2020-05-21  186.669998  183.289993  185.399994  183.429993  29119500.0   \n",
       "2020-05-22  184.460007  182.539993  183.190002  183.509995  20826900.0   \n",
       "2020-05-26  186.500000  181.100006  186.339996  181.570007  36073600.0   \n",
       "2020-05-27  181.990005  176.600006  180.199997  181.809998  39492600.0   \n",
       "2020-05-28  184.139999  180.389999  180.740005  181.399994  31328190.0   \n",
       "\n",
       "             Adj Close       Today  pct change  Direction        ADX  ...  \\\n",
       "Date                                                                  ...   \n",
       "2020-05-21  183.429993  183.429993   -0.012011       -1.0  23.034254  ...   \n",
       "2020-05-22  183.509995  183.509995    0.000436        1.0  22.840628  ...   \n",
       "2020-05-26  181.570007  181.570007   -0.010572       -1.0  23.079300  ...   \n",
       "2020-05-27  181.809998  181.809998    0.001322        1.0  21.960693  ...   \n",
       "2020-05-28  181.399994  181.399994   -0.002255       -1.0  21.391984  ...   \n",
       "\n",
       "                ROCP     ROCR100        RSI     ULTOSC      WILLR        DEMA  \\\n",
       "Date                                                                            \n",
       "2020-05-21 -0.000926   99.907400  57.172533  54.122572 -29.759332  184.689560   \n",
       "2020-05-22 -0.006335   99.366473  57.262764  54.059136 -33.812336  184.994995   \n",
       "2020-05-26 -0.027686   97.231446  54.276497  43.889972 -50.211211  185.013864   \n",
       "2020-05-27 -0.003835   99.616461  54.591974  47.228199 -48.182553  185.046009   \n",
       "2020-05-28  0.009179  100.917938  53.907656  44.232905 -51.648349  185.009474   \n",
       "\n",
       "                   EMA          MA       SAR         WMA  \n",
       "Date                                                      \n",
       "2020-05-21  177.188332  177.668333  0.088542  180.464688  \n",
       "2020-05-22  177.596181  178.280667  0.088542  180.841570  \n",
       "2020-05-26  177.852557  178.816000  0.088542  181.053785  \n",
       "2020-05-27  178.107876  179.086334  0.088542  181.246946  \n",
       "2020-05-28  178.320271  179.403667  0.088542  181.396215  \n",
       "\n",
       "[5 rows x 33 columns]"
      ]
     },
     "execution_count": 4,
     "metadata": {},
     "output_type": "execute_result"
    }
   ],
   "source": [
    "df.dropna(inplace = True)\n",
    "df.tail()"
   ]
  },
  {
   "cell_type": "code",
   "execution_count": 5,
   "metadata": {},
   "outputs": [
    {
     "data": {
      "text/html": [
       "<div>\n",
       "<style scoped>\n",
       "    .dataframe tbody tr th:only-of-type {\n",
       "        vertical-align: middle;\n",
       "    }\n",
       "\n",
       "    .dataframe tbody tr th {\n",
       "        vertical-align: top;\n",
       "    }\n",
       "\n",
       "    .dataframe thead th {\n",
       "        text-align: right;\n",
       "    }\n",
       "</style>\n",
       "<table border=\"1\" class=\"dataframe\">\n",
       "  <thead>\n",
       "    <tr style=\"text-align: right;\">\n",
       "      <th></th>\n",
       "      <th>Direction</th>\n",
       "      <th>ADX</th>\n",
       "      <th>ADXR</th>\n",
       "      <th>APO</th>\n",
       "      <th>AROONOSC</th>\n",
       "      <th>CCI</th>\n",
       "      <th>CMO</th>\n",
       "      <th>DX</th>\n",
       "      <th>MINUS_DI</th>\n",
       "      <th>MINUS_DM</th>\n",
       "      <th>...</th>\n",
       "      <th>ROCP</th>\n",
       "      <th>ROCR100</th>\n",
       "      <th>RSI</th>\n",
       "      <th>ULTOSC</th>\n",
       "      <th>WILLR</th>\n",
       "      <th>DEMA</th>\n",
       "      <th>EMA</th>\n",
       "      <th>MA</th>\n",
       "      <th>SAR</th>\n",
       "      <th>WMA</th>\n",
       "    </tr>\n",
       "    <tr>\n",
       "      <th>Date</th>\n",
       "      <th></th>\n",
       "      <th></th>\n",
       "      <th></th>\n",
       "      <th></th>\n",
       "      <th></th>\n",
       "      <th></th>\n",
       "      <th></th>\n",
       "      <th></th>\n",
       "      <th></th>\n",
       "      <th></th>\n",
       "      <th></th>\n",
       "      <th></th>\n",
       "      <th></th>\n",
       "      <th></th>\n",
       "      <th></th>\n",
       "      <th></th>\n",
       "      <th></th>\n",
       "      <th></th>\n",
       "      <th></th>\n",
       "      <th></th>\n",
       "      <th></th>\n",
       "    </tr>\n",
       "  </thead>\n",
       "  <tbody>\n",
       "    <tr>\n",
       "      <th>2020-05-21</th>\n",
       "      <td>-1.0</td>\n",
       "      <td>23.034254</td>\n",
       "      <td>23.090339</td>\n",
       "      <td>4.435256</td>\n",
       "      <td>35.714286</td>\n",
       "      <td>53.876278</td>\n",
       "      <td>14.345067</td>\n",
       "      <td>23.674336</td>\n",
       "      <td>15.680520</td>\n",
       "      <td>11.068343</td>\n",
       "      <td>...</td>\n",
       "      <td>-0.000926</td>\n",
       "      <td>99.907400</td>\n",
       "      <td>57.172533</td>\n",
       "      <td>54.122572</td>\n",
       "      <td>-29.759332</td>\n",
       "      <td>184.689560</td>\n",
       "      <td>177.188332</td>\n",
       "      <td>177.668333</td>\n",
       "      <td>0.088542</td>\n",
       "      <td>180.464688</td>\n",
       "    </tr>\n",
       "    <tr>\n",
       "      <th>2020-05-22</th>\n",
       "      <td>1.0</td>\n",
       "      <td>22.840628</td>\n",
       "      <td>23.103436</td>\n",
       "      <td>4.267243</td>\n",
       "      <td>35.714286</td>\n",
       "      <td>9.477605</td>\n",
       "      <td>14.525528</td>\n",
       "      <td>20.323491</td>\n",
       "      <td>16.345953</td>\n",
       "      <td>11.027747</td>\n",
       "      <td>...</td>\n",
       "      <td>-0.006335</td>\n",
       "      <td>99.366473</td>\n",
       "      <td>57.262764</td>\n",
       "      <td>54.059136</td>\n",
       "      <td>-33.812336</td>\n",
       "      <td>184.994995</td>\n",
       "      <td>177.596181</td>\n",
       "      <td>178.280667</td>\n",
       "      <td>0.088542</td>\n",
       "      <td>180.841570</td>\n",
       "    </tr>\n",
       "    <tr>\n",
       "      <th>2020-05-26</th>\n",
       "      <td>-1.0</td>\n",
       "      <td>23.079300</td>\n",
       "      <td>23.363366</td>\n",
       "      <td>3.983846</td>\n",
       "      <td>-21.428571</td>\n",
       "      <td>-16.631188</td>\n",
       "      <td>8.552993</td>\n",
       "      <td>26.182026</td>\n",
       "      <td>15.048767</td>\n",
       "      <td>10.240051</td>\n",
       "      <td>...</td>\n",
       "      <td>-0.027686</td>\n",
       "      <td>97.231446</td>\n",
       "      <td>54.276497</td>\n",
       "      <td>43.889972</td>\n",
       "      <td>-50.211211</td>\n",
       "      <td>185.013864</td>\n",
       "      <td>177.852557</td>\n",
       "      <td>178.816000</td>\n",
       "      <td>0.088542</td>\n",
       "      <td>181.053785</td>\n",
       "    </tr>\n",
       "    <tr>\n",
       "      <th>2020-05-27</th>\n",
       "      <td>1.0</td>\n",
       "      <td>21.960693</td>\n",
       "      <td>22.960378</td>\n",
       "      <td>3.485064</td>\n",
       "      <td>-21.428571</td>\n",
       "      <td>-126.216542</td>\n",
       "      <td>9.183948</td>\n",
       "      <td>7.418800</td>\n",
       "      <td>20.428062</td>\n",
       "      <td>14.008618</td>\n",
       "      <td>...</td>\n",
       "      <td>-0.003835</td>\n",
       "      <td>99.616461</td>\n",
       "      <td>54.591974</td>\n",
       "      <td>47.228199</td>\n",
       "      <td>-48.182553</td>\n",
       "      <td>185.046009</td>\n",
       "      <td>178.107876</td>\n",
       "      <td>179.086334</td>\n",
       "      <td>0.088542</td>\n",
       "      <td>181.246946</td>\n",
       "    </tr>\n",
       "    <tr>\n",
       "      <th>2020-05-28</th>\n",
       "      <td>-1.0</td>\n",
       "      <td>21.391984</td>\n",
       "      <td>22.856015</td>\n",
       "      <td>2.517756</td>\n",
       "      <td>-21.428571</td>\n",
       "      <td>-43.835670</td>\n",
       "      <td>7.815312</td>\n",
       "      <td>13.998772</td>\n",
       "      <td>19.291943</td>\n",
       "      <td>13.008003</td>\n",
       "      <td>...</td>\n",
       "      <td>0.009179</td>\n",
       "      <td>100.917938</td>\n",
       "      <td>53.907656</td>\n",
       "      <td>44.232905</td>\n",
       "      <td>-51.648349</td>\n",
       "      <td>185.009474</td>\n",
       "      <td>178.320271</td>\n",
       "      <td>179.403667</td>\n",
       "      <td>0.088542</td>\n",
       "      <td>181.396215</td>\n",
       "    </tr>\n",
       "  </tbody>\n",
       "</table>\n",
       "<p>5 rows × 25 columns</p>\n",
       "</div>"
      ],
      "text/plain": [
       "            Direction        ADX       ADXR       APO   AROONOSC         CCI  \\\n",
       "Date                                                                           \n",
       "2020-05-21       -1.0  23.034254  23.090339  4.435256  35.714286   53.876278   \n",
       "2020-05-22        1.0  22.840628  23.103436  4.267243  35.714286    9.477605   \n",
       "2020-05-26       -1.0  23.079300  23.363366  3.983846 -21.428571  -16.631188   \n",
       "2020-05-27        1.0  21.960693  22.960378  3.485064 -21.428571 -126.216542   \n",
       "2020-05-28       -1.0  21.391984  22.856015  2.517756 -21.428571  -43.835670   \n",
       "\n",
       "                  CMO         DX   MINUS_DI   MINUS_DM  ...      ROCP  \\\n",
       "Date                                                    ...             \n",
       "2020-05-21  14.345067  23.674336  15.680520  11.068343  ... -0.000926   \n",
       "2020-05-22  14.525528  20.323491  16.345953  11.027747  ... -0.006335   \n",
       "2020-05-26   8.552993  26.182026  15.048767  10.240051  ... -0.027686   \n",
       "2020-05-27   9.183948   7.418800  20.428062  14.008618  ... -0.003835   \n",
       "2020-05-28   7.815312  13.998772  19.291943  13.008003  ...  0.009179   \n",
       "\n",
       "               ROCR100        RSI     ULTOSC      WILLR        DEMA  \\\n",
       "Date                                                                  \n",
       "2020-05-21   99.907400  57.172533  54.122572 -29.759332  184.689560   \n",
       "2020-05-22   99.366473  57.262764  54.059136 -33.812336  184.994995   \n",
       "2020-05-26   97.231446  54.276497  43.889972 -50.211211  185.013864   \n",
       "2020-05-27   99.616461  54.591974  47.228199 -48.182553  185.046009   \n",
       "2020-05-28  100.917938  53.907656  44.232905 -51.648349  185.009474   \n",
       "\n",
       "                   EMA          MA       SAR         WMA  \n",
       "Date                                                      \n",
       "2020-05-21  177.188332  177.668333  0.088542  180.464688  \n",
       "2020-05-22  177.596181  178.280667  0.088542  180.841570  \n",
       "2020-05-26  177.852557  178.816000  0.088542  181.053785  \n",
       "2020-05-27  178.107876  179.086334  0.088542  181.246946  \n",
       "2020-05-28  178.320271  179.403667  0.088542  181.396215  \n",
       "\n",
       "[5 rows x 25 columns]"
      ]
     },
     "execution_count": 5,
     "metadata": {},
     "output_type": "execute_result"
    }
   ],
   "source": [
    "df.drop(['High', 'Low', 'Close', 'Open', 'Close', 'Volume', 'Adj Close', 'Today', 'pct change'], axis = 1, inplace = True)\n",
    "df.tail()"
   ]
  },
  {
   "cell_type": "code",
   "execution_count": 6,
   "metadata": {},
   "outputs": [],
   "source": [
    "y = df['Direction']\n",
    "x = df.drop('Direction', axis = 1)"
   ]
  },
  {
   "cell_type": "code",
   "execution_count": 7,
   "metadata": {},
   "outputs": [],
   "source": [
    "split = 0.8\n",
    "param = int(len(df)*split)\n",
    "\n",
    "x_train = x[:param]\n",
    "x_test = x[param:]\n",
    "y_train = y[:param]\n",
    "y_test = y[param:]"
   ]
  },
  {
   "cell_type": "code",
   "execution_count": 8,
   "metadata": {},
   "outputs": [],
   "source": [
    "from sklearn.neighbors import KNeighborsClassifier\n",
    "from sklearn.linear_model import LogisticRegression\n",
    "from sklearn.svm import LinearSVC"
   ]
  },
  {
   "cell_type": "markdown",
   "metadata": {},
   "source": [
    "#####  KNN"
   ]
  },
  {
   "cell_type": "code",
   "execution_count": 9,
   "metadata": {},
   "outputs": [
    {
     "name": "stdout",
     "output_type": "stream",
     "text": [
      "Accuracy of kNN model: 0.662\n",
      "Confusion matrix: \n",
      "[[507   6 288]\n",
      " [  0   0   0]\n",
      " [275  10 627]]\n"
     ]
    }
   ],
   "source": [
    "from sklearn.metrics import confusion_matrix\n",
    "\n",
    "model = KNeighborsClassifier()\n",
    "model.fit(x_train, y_train)\n",
    "pred = model.predict(x_test)\n",
    "print(\"Accuracy of kNN model: %0.3f\" % model.score(x_test, y_test))\n",
    "print(\"Confusion matrix: \\n%s\" % confusion_matrix(pred, y_test))"
   ]
  },
  {
   "cell_type": "code",
   "execution_count": 10,
   "metadata": {},
   "outputs": [
    {
     "name": "stdout",
     "output_type": "stream",
     "text": [
      "Accuracy of kNN model: 0.674\n",
      "Confusion matrix: \n",
      "[[509   5 269]\n",
      " [  0   0   0]\n",
      " [273  11 646]]\n"
     ]
    }
   ],
   "source": [
    "model = KNeighborsClassifier(n_neighbors=25)\n",
    "model.fit(x_train, y_train)\n",
    "pred = model.predict(x_test)\n",
    "print(\"Accuracy of kNN model: %0.3f\" % model.score(x_test, y_test))\n",
    "print(\"Confusion matrix: \\n%s\" % confusion_matrix(pred, y_test))"
   ]
  },
  {
   "cell_type": "markdown",
   "metadata": {},
   "source": [
    "##### Logistic Regression"
   ]
  },
  {
   "cell_type": "code",
   "execution_count": 11,
   "metadata": {},
   "outputs": [
    {
     "name": "stderr",
     "output_type": "stream",
     "text": [
      "c:\\users\\hayes\\appdata\\local\\programs\\python\\python37\\lib\\site-packages\\sklearn\\linear_model\\logistic.py:433: FutureWarning: Default solver will be changed to 'lbfgs' in 0.22. Specify a solver to silence this warning.\n",
      "  FutureWarning)\n",
      "c:\\users\\hayes\\appdata\\local\\programs\\python\\python37\\lib\\site-packages\\sklearn\\linear_model\\logistic.py:460: FutureWarning: Default multi_class will be changed to 'auto' in 0.22. Specify the multi_class option to silence this warning.\n",
      "  \"this warning.\", FutureWarning)\n"
     ]
    },
    {
     "data": {
      "text/plain": [
       "LogisticRegression(C=1.0, class_weight=None, dual=False, fit_intercept=True,\n",
       "          intercept_scaling=1, max_iter=100, multi_class='warn',\n",
       "          n_jobs=None, penalty='l2', random_state=None, solver='warn',\n",
       "          tol=0.0001, verbose=0, warm_start=False)"
      ]
     },
     "execution_count": 11,
     "metadata": {},
     "output_type": "execute_result"
    }
   ],
   "source": [
    "model = LogisticRegression()\n",
    "model.fit(x_train, y_train)"
   ]
  },
  {
   "cell_type": "code",
   "execution_count": 12,
   "metadata": {},
   "outputs": [],
   "source": [
    "pred = model.predict(x_test)"
   ]
  },
  {
   "cell_type": "code",
   "execution_count": 13,
   "metadata": {},
   "outputs": [
    {
     "name": "stdout",
     "output_type": "stream",
     "text": [
      "Accuracy of Logstic Regression model: 0.699\n",
      "Confusion matrix: \n",
      "[[381   3  98]\n",
      " [  0   0   0]\n",
      " [401  13 817]]\n"
     ]
    }
   ],
   "source": [
    "print(\"Accuracy of Logstic Regression model: %0.3f\" % model.score(x_test, y_test))\n",
    "print(\"Confusion matrix: \\n%s\" % confusion_matrix(pred, y_test))"
   ]
  },
  {
   "cell_type": "code",
   "execution_count": 14,
   "metadata": {},
   "outputs": [
    {
     "name": "stderr",
     "output_type": "stream",
     "text": [
      "c:\\users\\hayes\\appdata\\local\\programs\\python\\python37\\lib\\site-packages\\sklearn\\linear_model\\logistic.py:433: FutureWarning: Default solver will be changed to 'lbfgs' in 0.22. Specify a solver to silence this warning.\n",
      "  FutureWarning)\n",
      "c:\\users\\hayes\\appdata\\local\\programs\\python\\python37\\lib\\site-packages\\sklearn\\linear_model\\logistic.py:460: FutureWarning: Default multi_class will be changed to 'auto' in 0.22. Specify the multi_class option to silence this warning.\n",
      "  \"this warning.\", FutureWarning)\n"
     ]
    },
    {
     "name": "stdout",
     "output_type": "stream",
     "text": [
      "Accuracy of Logstic Regression model: 0.702\n",
      "Confusion matrix: \n",
      "[[392   3 104]\n",
      " [  0   0   0]\n",
      " [390  13 811]]\n"
     ]
    }
   ],
   "source": [
    "model = LogisticRegression(C=4, penalty='l2')\n",
    "model.fit(x_train, y_train)\n",
    "pred = model.predict(x_test)\n",
    "print(\"Accuracy of Logstic Regression model: %0.3f\" % model.score(x_test, y_test))\n",
    "print(\"Confusion matrix: \\n%s\" % confusion_matrix(pred, y_test))"
   ]
  },
  {
   "cell_type": "markdown",
   "metadata": {},
   "source": [
    "##### SVM \n",
    "First I use the Linear Support Vector Machine Classifier however this performed the worst out of all the models so far. I changed it to the standard SVC model. I tuned the paramters until I got a more accurate model. "
   ]
  },
  {
   "cell_type": "code",
   "execution_count": 15,
   "metadata": {},
   "outputs": [
    {
     "name": "stdout",
     "output_type": "stream",
     "text": [
      "Accuracy of SVM model: 0.675\n",
      "Confusion matrix: \n",
      "[[430   6 189]\n",
      " [  0   0   0]\n",
      " [352  10 726]]\n"
     ]
    },
    {
     "name": "stderr",
     "output_type": "stream",
     "text": [
      "c:\\users\\hayes\\appdata\\local\\programs\\python\\python37\\lib\\site-packages\\sklearn\\svm\\base.py:931: ConvergenceWarning: Liblinear failed to converge, increase the number of iterations.\n",
      "  \"the number of iterations.\", ConvergenceWarning)\n"
     ]
    }
   ],
   "source": [
    "model = LinearSVC()\n",
    "model.fit(x_train, y_train)\n",
    "pred = model.predict(x_test)\n",
    "print(\"Accuracy of SVM model: %0.3f\" % model.score(x_test, y_test))\n",
    "print(\"Confusion matrix: \\n%s\" % confusion_matrix(pred, y_test))"
   ]
  },
  {
   "cell_type": "code",
   "execution_count": 16,
   "metadata": {},
   "outputs": [
    {
     "name": "stderr",
     "output_type": "stream",
     "text": [
      "c:\\users\\hayes\\appdata\\local\\programs\\python\\python37\\lib\\site-packages\\sklearn\\svm\\base.py:196: FutureWarning: The default value of gamma will change from 'auto' to 'scale' in version 0.22 to account better for unscaled features. Set gamma explicitly to 'auto' or 'scale' to avoid this warning.\n",
      "  \"avoid this warning.\", FutureWarning)\n"
     ]
    },
    {
     "name": "stdout",
     "output_type": "stream",
     "text": [
      "Accuracy of SVM model: 0.534\n",
      "Confusion matrix: \n",
      "[[  0   0   0]\n",
      " [  0   0   0]\n",
      " [782  16 915]]\n"
     ]
    }
   ],
   "source": [
    "from sklearn.svm import SVC\n",
    "\n",
    "model = SVC()\n",
    "model.fit(x_train, y_train)\n",
    "pred = model.predict(x_test)\n",
    "print(\"Accuracy of SVM model: %0.3f\" % model.score(x_test, y_test))\n",
    "print(\"Confusion matrix: \\n%s\" % confusion_matrix(pred, y_test))"
   ]
  },
  {
   "cell_type": "code",
   "execution_count": 17,
   "metadata": {},
   "outputs": [
    {
     "name": "stdout",
     "output_type": "stream",
     "text": [
      "Accuracy of SVM model: 0.684\n",
      "Confusion matrix: \n",
      "[[331   3  74]\n",
      " [  0   0   0]\n",
      " [451  13 841]]\n"
     ]
    }
   ],
   "source": [
    "model = SVC(kernel=\"linear\", C=0.025, random_state=101)\n",
    "model.fit(x_train, y_train)\n",
    "pred = model.predict(x_test)\n",
    "print(\"Accuracy of SVM model: %0.3f\" % model.score(x_test, y_test))\n",
    "print(\"Confusion matrix: \\n%s\" % confusion_matrix(pred, y_test))"
   ]
  },
  {
   "cell_type": "markdown",
   "metadata": {},
   "source": [
    "##### Random Forest"
   ]
  },
  {
   "cell_type": "code",
   "execution_count": 18,
   "metadata": {},
   "outputs": [
    {
     "name": "stderr",
     "output_type": "stream",
     "text": [
      "[Parallel(n_jobs=1)]: Using backend SequentialBackend with 1 concurrent workers.\n"
     ]
    },
    {
     "name": "stdout",
     "output_type": "stream",
     "text": [
      "Accuracy of RF model: 0.699\n",
      "Confusion matrix: \n",
      "[[501   6 219]\n",
      " [  0   0   0]\n",
      " [281  10 696]]\n"
     ]
    },
    {
     "name": "stderr",
     "output_type": "stream",
     "text": [
      "[Parallel(n_jobs=1)]: Done 100 out of 100 | elapsed:    2.0s finished\n",
      "[Parallel(n_jobs=1)]: Using backend SequentialBackend with 1 concurrent workers.\n",
      "[Parallel(n_jobs=1)]: Done 100 out of 100 | elapsed:    0.0s finished\n",
      "[Parallel(n_jobs=1)]: Using backend SequentialBackend with 1 concurrent workers.\n",
      "[Parallel(n_jobs=1)]: Done 100 out of 100 | elapsed:    0.0s finished\n"
     ]
    }
   ],
   "source": [
    "from sklearn.ensemble import RandomForestClassifier\n",
    "\n",
    "clf = RandomForestClassifier(n_jobs=1,n_estimators=100,verbose=True,oob_score=True)\n",
    "# try without n_jobs-1\n",
    "\n",
    "clf.fit(x_train, y_train)\n",
    "pred = clf.predict(x_test)\n",
    "print(\"Accuracy of RF model: %0.3f\" % clf.score(x_test, y_test))\n",
    "print(\"Confusion matrix: \\n%s\" % confusion_matrix(pred, y_test))"
   ]
  },
  {
   "cell_type": "code",
   "execution_count": 19,
   "metadata": {},
   "outputs": [
    {
     "name": "stdout",
     "output_type": "stream",
     "text": [
      "Accuracy of RF model: 0.717\n",
      "Confusion matrix: \n",
      "[[519   5 206]\n",
      " [  0   0   0]\n",
      " [263  11 709]]\n"
     ]
    }
   ],
   "source": [
    "clf = RandomForestClassifier(n_estimators=70, oob_score=True, n_jobs=-1,\n",
    "                            random_state=101, max_features=None, min_samples_leaf=30)\n",
    "# try without n_jobs-1\n",
    "\n",
    "clf.fit(x_train, y_train)\n",
    "pred = clf.predict(x_test)\n",
    "print(\"Accuracy of RF model: %0.3f\" % clf.score(x_test, y_test))\n",
    "print(\"Confusion matrix: \\n%s\" % confusion_matrix(pred, y_test))"
   ]
  },
  {
   "cell_type": "code",
   "execution_count": 20,
   "metadata": {},
   "outputs": [
    {
     "name": "stdout",
     "output_type": "stream",
     "text": [
      "Accuracy of RF model: 0.717\n",
      "Confusion matrix: \n",
      "[[536   6 222]\n",
      " [  0   0   0]\n",
      " [246  10 693]]\n"
     ]
    }
   ],
   "source": [
    "clf = RandomForestClassifier(n_estimators=200, criterion='entropy',max_features='auto')\n",
    "clf.fit(x_train, y_train)\n",
    "pred = clf.predict(x_test)\n",
    "print(\"Accuracy of RF model: %0.3f\" % clf.score(x_test, y_test))\n",
    "print(\"Confusion matrix: \\n%s\" % confusion_matrix(pred, y_test))"
   ]
  },
  {
   "cell_type": "markdown",
   "metadata": {},
   "source": [
    "##### Naives Bayes"
   ]
  },
  {
   "cell_type": "code",
   "execution_count": 21,
   "metadata": {},
   "outputs": [
    {
     "name": "stdout",
     "output_type": "stream",
     "text": [
      "Accuracy of NB model: 0.601\n",
      "Confusion matrix: \n",
      "[[522   6 408]\n",
      " [  0   0   0]\n",
      " [260  10 507]]\n"
     ]
    }
   ],
   "source": [
    "from sklearn.naive_bayes import GaussianNB\n",
    "nb = GaussianNB()\n",
    "nb.fit(x_train, y_train)\n",
    "pred = nb.predict(x_test)\n",
    "print(\"Accuracy of NB model: %0.3f\" % nb.score(x_test, y_test))\n",
    "print(\"Confusion matrix: \\n%s\" % confusion_matrix(pred, y_test))"
   ]
  },
  {
   "cell_type": "code",
   "execution_count": 22,
   "metadata": {},
   "outputs": [
    {
     "name": "stdout",
     "output_type": "stream",
     "text": [
      "Accuracy of NB model: 0.588\n",
      "Confusion matrix: \n",
      "[[358   5 266]\n",
      " [  0   0   0]\n",
      " [424  11 649]]\n"
     ]
    }
   ],
   "source": [
    "from sklearn.naive_bayes import BernoulliNB\n",
    "nb = BernoulliNB()\n",
    "nb.fit(x_train, y_train)\n",
    "pred = nb.predict(x_test)\n",
    "print(\"Accuracy of NB model: %0.3f\" % nb.score(x_test, y_test))\n",
    "print(\"Confusion matrix: \\n%s\" % confusion_matrix(pred, y_test))"
   ]
  },
  {
   "cell_type": "markdown",
   "metadata": {},
   "source": [
    "##### Decision Tree"
   ]
  },
  {
   "cell_type": "code",
   "execution_count": 23,
   "metadata": {},
   "outputs": [
    {
     "name": "stdout",
     "output_type": "stream",
     "text": [
      "Accuracy of DT model: 0.668\n",
      "Confusion matrix: \n",
      "[[472   6 242]\n",
      " [  0   0   0]\n",
      " [310  10 673]]\n"
     ]
    }
   ],
   "source": [
    "from sklearn.tree import DecisionTreeClassifier\n",
    "dtree = DecisionTreeClassifier(max_depth=10, random_state=101, max_features=None, min_samples_leaf=15)\n",
    "dtree.fit(x_train, y_train)\n",
    "pred = dtree.predict(x_test)\n",
    "print(\"Accuracy of DT model: %0.3f\" % dtree.score(x_test, y_test))\n",
    "print(\"Confusion matrix: \\n%s\" % confusion_matrix(pred, y_test))"
   ]
  },
  {
   "cell_type": "code",
   "execution_count": 24,
   "metadata": {},
   "outputs": [
    {
     "name": "stdout",
     "output_type": "stream",
     "text": [
      "Accuracy of DT model: 0.661\n",
      "Confusion matrix: \n",
      "[[524   6 306]\n",
      " [  0   0   0]\n",
      " [258  10 609]]\n"
     ]
    }
   ],
   "source": [
    "dtree = DecisionTreeClassifier(criterion='gini', max_depth=3, min_samples_leaf=6)\n",
    "dtree.fit(x_train, y_train)\n",
    "pred = dtree.predict(x_test)\n",
    "print(\"Accuracy of DT model: %0.3f\" % dtree.score(x_test, y_test))\n",
    "print(\"Confusion matrix: \\n%s\" % confusion_matrix(pred, y_test))"
   ]
  },
  {
   "cell_type": "markdown",
   "metadata": {},
   "source": [
    "##### XGBOOST"
   ]
  },
  {
   "cell_type": "code",
   "execution_count": 25,
   "metadata": {},
   "outputs": [
    {
     "name": "stdout",
     "output_type": "stream",
     "text": [
      "Accuracy of XBG model: 0.712\n",
      "Confusion matrix: \n",
      "[[522   8 217]\n",
      " [  0   0   0]\n",
      " [260   8 698]]\n",
      "              precision    recall  f1-score   support\n",
      "\n",
      "        -1.0       0.70      0.67      0.68       782\n",
      "         0.0       0.00      0.00      0.00        16\n",
      "         1.0       0.72      0.76      0.74       915\n",
      "\n",
      "   micro avg       0.71      0.71      0.71      1713\n",
      "   macro avg       0.47      0.48      0.47      1713\n",
      "weighted avg       0.70      0.71      0.71      1713\n",
      "\n"
     ]
    },
    {
     "name": "stderr",
     "output_type": "stream",
     "text": [
      "c:\\users\\hayes\\appdata\\local\\programs\\python\\python37\\lib\\site-packages\\sklearn\\metrics\\classification.py:1143: UndefinedMetricWarning: Precision and F-score are ill-defined and being set to 0.0 in labels with no predicted samples.\n",
      "  'precision', 'predicted', average, warn_for)\n"
     ]
    }
   ],
   "source": [
    "from xgboost import XGBClassifier\n",
    "model = XGBClassifier()\n",
    "model.fit(x_train, y_train)\n",
    "pred = model.predict(x_test)\n",
    "print(\"Accuracy of XBG model: %0.3f\" % model.score(x_test, y_test))\n",
    "print(\"Confusion matrix: \\n%s\" % confusion_matrix(pred, y_test))\n",
    "\n",
    "from sklearn.metrics import classification_report\n",
    "print(classification_report(y_test, pred))"
   ]
  },
  {
   "cell_type": "markdown",
   "metadata": {},
   "source": [
    "##### Stochastic Gradient Descent"
   ]
  },
  {
   "cell_type": "code",
   "execution_count": 26,
   "metadata": {},
   "outputs": [
    {
     "name": "stdout",
     "output_type": "stream",
     "text": [
      "Accuracy of SGD model: 0.508\n",
      "Confusion matrix: \n",
      "[[768  16 813]\n",
      " [  0   0   0]\n",
      " [ 14   0 102]]\n"
     ]
    },
    {
     "name": "stderr",
     "output_type": "stream",
     "text": [
      "c:\\users\\hayes\\appdata\\local\\programs\\python\\python37\\lib\\site-packages\\sklearn\\linear_model\\stochastic_gradient.py:166: FutureWarning: max_iter and tol parameters have been added in SGDClassifier in 0.19. If both are left unset, they default to max_iter=5 and tol=None. If tol is not None, max_iter defaults to max_iter=1000. From 0.21, default max_iter will be 1000, and default tol will be 1e-3.\n",
      "  FutureWarning)\n"
     ]
    }
   ],
   "source": [
    "from sklearn.linear_model import SGDClassifier\n",
    "sgd = SGDClassifier(loss='modified_huber', shuffle=True, random_state=101)\n",
    "sgd.fit(x_train, y_train)\n",
    "pred = sgd.predict(x_test)\n",
    "print(\"Accuracy of SGD model: %0.3f\" % sgd.score(x_test, y_test))\n",
    "print(\"Confusion matrix: \\n%s\" % confusion_matrix(pred, y_test))"
   ]
  },
  {
   "cell_type": "markdown",
   "metadata": {},
   "source": [
    "##### LightGBM"
   ]
  },
  {
   "cell_type": "code",
   "execution_count": 27,
   "metadata": {},
   "outputs": [
    {
     "name": "stdout",
     "output_type": "stream",
     "text": [
      "Accuracy of SGD model: 0.726\n",
      "Confusion matrix: \n",
      "[[557   9 228]\n",
      " [  0   0   0]\n",
      " [225   7 687]]\n"
     ]
    }
   ],
   "source": [
    "from lightgbm import LGBMClassifier\n",
    "model = LGBMClassifier()\n",
    "model.fit(x_train, y_train)\n",
    "pred = model.predict(x_test)\n",
    "print(\"Accuracy of SGD model: %0.3f\" % model.score(x_test, y_test))\n",
    "print(\"Confusion matrix: \\n%s\" % confusion_matrix(pred, y_test))"
   ]
  },
  {
   "cell_type": "markdown",
   "metadata": {},
   "source": [
    "##### Best \n",
    "Random Forest, Logistic Regression, XGBoost, LightGBM"
   ]
  }
 ],
 "metadata": {
  "kernelspec": {
   "display_name": "Python 3",
   "language": "python",
   "name": "python3"
  },
  "language_info": {
   "codemirror_mode": {
    "name": "ipython",
    "version": 3
   },
   "file_extension": ".py",
   "mimetype": "text/x-python",
   "name": "python",
   "nbconvert_exporter": "python",
   "pygments_lexer": "ipython3",
   "version": "3.7.0"
  }
 },
 "nbformat": 4,
 "nbformat_minor": 2
}
